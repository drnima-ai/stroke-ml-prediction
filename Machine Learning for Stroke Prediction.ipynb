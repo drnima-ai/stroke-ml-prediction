{
 "cells": [
  {
   "cell_type": "markdown",
   "id": "d9dccf16",
   "metadata": {},
   "source": [
    "# 🧠 Machine Learning for Stroke Prediction\n",
    "\n",
    "This section builds upon the comprehensive exploratory data analysis (EDA) and preprocessing. We will use the cleaned dataset, stroke_dataset.csv, to build and evaluate machine learning models for predicting stroke risk.\n",
    "\n",
    "Our main challenge, as identified in the EDA, is the severe class imbalance. A model's success will be measured not just by its overall accuracy, but by its ability to correctly identify the rare positive cases (patients who had a stroke).\n",
    "\n",
    "+ The modeling workflow will be as follows:\n",
    "\n",
    "    1. Load the preprocessed data.\n",
    "\n",
    "    2. Separate features (X) and the target variable (y).\n",
    "\n",
    "    3. Split the data into training and testing sets.\n",
    "\n",
    "    4. Handle the class imbalance in the training data using SMOTE.\n",
    "\n",
    "    5. Train and evaluate three distinct classification models:\n",
    "\n",
    "        - Logistic Regression\n",
    "\n",
    "        - K-Nearest Neighbors\n",
    "\n",
    "        - Random Forest Classifier\n",
    "\n",
    "    6. Compare model performance, focusing on metrics like Recall and F1-Score for the positive class (stroke=1)."
   ]
  },
  {
   "cell_type": "markdown",
   "id": "dfd0bc54",
   "metadata": {},
   "source": [
    "## 📚 Importing Libraries for Machine Learning"
   ]
  },
  {
   "cell_type": "code",
   "execution_count": 7,
   "id": "8c1585d6",
   "metadata": {},
   "outputs": [],
   "source": [
    "# Import libraries for data manipulation\n",
    "import pandas as pd\n",
    "import numpy as np\n",
    "\n",
    "# Import libraries for modeling and evaluation\n",
    "from sklearn.model_selection import train_test_split\n",
    "from sklearn.linear_model import LogisticRegression\n",
    "from sklearn.neighbors import KNeighborsClassifier\n",
    "from sklearn.ensemble import RandomForestClassifier\n",
    "from sklearn.metrics import accuracy_score, confusion_matrix, classification_report\n",
    "\n",
    "# Import SMOTE for handling class imbalance\n",
    "from imblearn.over_sampling import SMOTE\n",
    "\n",
    "# Import libraries for visualization\n",
    "import matplotlib.pyplot as plt\n",
    "import seaborn as sns"
   ]
  },
  {
   "cell_type": "markdown",
   "id": "e4e43ee1",
   "metadata": {},
   "source": [
    "## 📂 Step 1: Load the Preprocessed Dataset"
   ]
  },
  {
   "cell_type": "code",
   "execution_count": 8,
   "id": "508efc4b",
   "metadata": {},
   "outputs": [
    {
     "data": {
      "text/html": [
       "<div>\n",
       "<style scoped>\n",
       "    .dataframe tbody tr th:only-of-type {\n",
       "        vertical-align: middle;\n",
       "    }\n",
       "\n",
       "    .dataframe tbody tr th {\n",
       "        vertical-align: top;\n",
       "    }\n",
       "\n",
       "    .dataframe thead th {\n",
       "        text-align: right;\n",
       "    }\n",
       "</style>\n",
       "<table border=\"1\" class=\"dataframe\">\n",
       "  <thead>\n",
       "    <tr style=\"text-align: right;\">\n",
       "      <th></th>\n",
       "      <th>age</th>\n",
       "      <th>hypertension</th>\n",
       "      <th>heart_disease</th>\n",
       "      <th>avg_glucose_level</th>\n",
       "      <th>bmi</th>\n",
       "      <th>stroke</th>\n",
       "      <th>gender_Male</th>\n",
       "      <th>ever_married_Yes</th>\n",
       "      <th>work_type_Never_worked</th>\n",
       "      <th>work_type_Private</th>\n",
       "      <th>work_type_Self-employed</th>\n",
       "      <th>work_type_children</th>\n",
       "      <th>Residence_type_Urban</th>\n",
       "      <th>smoking_status_formerly smoked</th>\n",
       "      <th>smoking_status_never smoked</th>\n",
       "      <th>smoking_status_smokes</th>\n",
       "    </tr>\n",
       "  </thead>\n",
       "  <tbody>\n",
       "    <tr>\n",
       "      <th>0</th>\n",
       "      <td>67.0</td>\n",
       "      <td>0</td>\n",
       "      <td>1</td>\n",
       "      <td>228.69</td>\n",
       "      <td>36.6</td>\n",
       "      <td>1</td>\n",
       "      <td>True</td>\n",
       "      <td>True</td>\n",
       "      <td>False</td>\n",
       "      <td>True</td>\n",
       "      <td>False</td>\n",
       "      <td>False</td>\n",
       "      <td>True</td>\n",
       "      <td>True</td>\n",
       "      <td>False</td>\n",
       "      <td>False</td>\n",
       "    </tr>\n",
       "    <tr>\n",
       "      <th>1</th>\n",
       "      <td>61.0</td>\n",
       "      <td>0</td>\n",
       "      <td>0</td>\n",
       "      <td>202.21</td>\n",
       "      <td>28.1</td>\n",
       "      <td>1</td>\n",
       "      <td>False</td>\n",
       "      <td>True</td>\n",
       "      <td>False</td>\n",
       "      <td>False</td>\n",
       "      <td>True</td>\n",
       "      <td>False</td>\n",
       "      <td>False</td>\n",
       "      <td>False</td>\n",
       "      <td>True</td>\n",
       "      <td>False</td>\n",
       "    </tr>\n",
       "    <tr>\n",
       "      <th>2</th>\n",
       "      <td>80.0</td>\n",
       "      <td>0</td>\n",
       "      <td>1</td>\n",
       "      <td>105.92</td>\n",
       "      <td>32.5</td>\n",
       "      <td>1</td>\n",
       "      <td>True</td>\n",
       "      <td>True</td>\n",
       "      <td>False</td>\n",
       "      <td>True</td>\n",
       "      <td>False</td>\n",
       "      <td>False</td>\n",
       "      <td>False</td>\n",
       "      <td>False</td>\n",
       "      <td>True</td>\n",
       "      <td>False</td>\n",
       "    </tr>\n",
       "    <tr>\n",
       "      <th>3</th>\n",
       "      <td>49.0</td>\n",
       "      <td>0</td>\n",
       "      <td>0</td>\n",
       "      <td>171.23</td>\n",
       "      <td>34.4</td>\n",
       "      <td>1</td>\n",
       "      <td>False</td>\n",
       "      <td>True</td>\n",
       "      <td>False</td>\n",
       "      <td>True</td>\n",
       "      <td>False</td>\n",
       "      <td>False</td>\n",
       "      <td>True</td>\n",
       "      <td>False</td>\n",
       "      <td>False</td>\n",
       "      <td>True</td>\n",
       "    </tr>\n",
       "    <tr>\n",
       "      <th>4</th>\n",
       "      <td>79.0</td>\n",
       "      <td>1</td>\n",
       "      <td>0</td>\n",
       "      <td>174.12</td>\n",
       "      <td>24.0</td>\n",
       "      <td>1</td>\n",
       "      <td>False</td>\n",
       "      <td>True</td>\n",
       "      <td>False</td>\n",
       "      <td>False</td>\n",
       "      <td>True</td>\n",
       "      <td>False</td>\n",
       "      <td>False</td>\n",
       "      <td>False</td>\n",
       "      <td>True</td>\n",
       "      <td>False</td>\n",
       "    </tr>\n",
       "  </tbody>\n",
       "</table>\n",
       "</div>"
      ],
      "text/plain": [
       "    age  hypertension  heart_disease  avg_glucose_level   bmi  stroke  \\\n",
       "0  67.0             0              1             228.69  36.6       1   \n",
       "1  61.0             0              0             202.21  28.1       1   \n",
       "2  80.0             0              1             105.92  32.5       1   \n",
       "3  49.0             0              0             171.23  34.4       1   \n",
       "4  79.0             1              0             174.12  24.0       1   \n",
       "\n",
       "   gender_Male  ever_married_Yes  work_type_Never_worked  work_type_Private  \\\n",
       "0         True              True                   False               True   \n",
       "1        False              True                   False              False   \n",
       "2         True              True                   False               True   \n",
       "3        False              True                   False               True   \n",
       "4        False              True                   False              False   \n",
       "\n",
       "   work_type_Self-employed  work_type_children  Residence_type_Urban  \\\n",
       "0                    False               False                  True   \n",
       "1                     True               False                 False   \n",
       "2                    False               False                 False   \n",
       "3                    False               False                  True   \n",
       "4                     True               False                 False   \n",
       "\n",
       "   smoking_status_formerly smoked  smoking_status_never smoked  \\\n",
       "0                            True                        False   \n",
       "1                           False                         True   \n",
       "2                           False                         True   \n",
       "3                           False                        False   \n",
       "4                           False                         True   \n",
       "\n",
       "   smoking_status_smokes  \n",
       "0                  False  \n",
       "1                  False  \n",
       "2                  False  \n",
       "3                   True  \n",
       "4                  False  "
      ]
     },
     "execution_count": 8,
     "metadata": {},
     "output_type": "execute_result"
    }
   ],
   "source": [
    "# Load the cleaned and prepared dataset\n",
    "df_model = pd.read_csv('stroke_dataset.csv')\n",
    "\n",
    "# Display the first few rows to confirm it's loaded correctly\n",
    "df_model.head()"
   ]
  },
  {
   "cell_type": "markdown",
   "id": "bce65b32",
   "metadata": {},
   "source": [
    "## 🔪 Step 2: Separate Features (X) and Target (y)"
   ]
  },
  {
   "cell_type": "code",
   "execution_count": 9,
   "id": "f50f0331",
   "metadata": {},
   "outputs": [
    {
     "name": "stdout",
     "output_type": "stream",
     "text": [
      "Shape of features (X): (5109, 15)\n",
      "Shape of target (y): (5109,)\n"
     ]
    }
   ],
   "source": [
    "# X contains all columns except the 'stroke' target variable\n",
    "X = df_model.drop('stroke', axis=1)\n",
    "\n",
    "# y contains only the 'stroke' target variable\n",
    "y = df_model['stroke']\n",
    "\n",
    "# Print the shapes to confirm the separation\n",
    "print(\"Shape of features (X):\", X.shape)\n",
    "print(\"Shape of target (y):\", y.shape)"
   ]
  },
  {
   "cell_type": "markdown",
   "id": "e396daee",
   "metadata": {},
   "source": [
    "## ✂️ Step 3: Split Data into Training and Testing Sets"
   ]
  },
  {
   "cell_type": "code",
   "execution_count": 10,
   "id": "55cf932b",
   "metadata": {},
   "outputs": [],
   "source": [
    "# Split the data: 80% for training, 20% for testing\n",
    "# random_state ensures that the split is the same every time we run the code\n",
    "X_train, X_test, y_train, y_test = train_test_split(X, y, test_size=0.2, random_state=42, stratify=y)"
   ]
  },
  {
   "cell_type": "markdown",
   "id": "ab746f67",
   "metadata": {},
   "source": [
    "To properly evaluate our models, we must test them on data they haven't seen. We will split the data into a training set (for building the model) and a testing set (for evaluation). The stratify=y argument is crucial here to ensure the class imbalance is reflected equally in both the train and test splits."
   ]
  },
  {
   "cell_type": "markdown",
   "id": "91b7e544",
   "metadata": {},
   "source": [
    "## ⚖️ Step 4: Handle Class Imbalance with SMOTE"
   ]
  },
  {
   "cell_type": "markdown",
   "id": "29369ede",
   "metadata": {},
   "source": [
    "As we discovered, only about 5% of patients in our dataset had a stroke. To prevent our models from becoming biased towards the majority class (no stroke), we will use the Synthetic Minority Over-sampling Technique (SMOTE) to balance our training data.\n",
    "\n",
    "Important: SMOTE should only be applied to the training set. The test set must remain untouched to serve as a real-world, imbalanced benchmark for evaluation."
   ]
  },
  {
   "cell_type": "code",
   "execution_count": 11,
   "id": "0c6a4ce0",
   "metadata": {},
   "outputs": [
    {
     "name": "stdout",
     "output_type": "stream",
     "text": [
      "Original training set label distribution:\n",
      " stroke\n",
      "0    3888\n",
      "1     199\n",
      "Name: count, dtype: int64\n",
      "\n",
      "Resampled training set label distribution:\n",
      " stroke\n",
      "0    3888\n",
      "1    3888\n",
      "Name: count, dtype: int64\n"
     ]
    }
   ],
   "source": [
    "# Initialize SMOTE\n",
    "smote = SMOTE(random_state=42)\n",
    "\n",
    "# Fit and apply SMOTE to the training data\n",
    "X_train_resampled, y_train_resampled = smote.fit_resample(X_train, y_train)\n",
    "\n",
    "# Check the new distribution of the training set labels\n",
    "print(\"Original training set label distribution:\\n\", y_train.value_counts())\n",
    "print(\"\\nResampled training set label distribution:\\n\", y_train_resampled.value_counts())"
   ]
  },
  {
   "cell_type": "markdown",
   "id": "b32e77b8",
   "metadata": {},
   "source": [
    "## 🤖 Step 5: Model Training and Evaluation"
   ]
  },
  {
   "cell_type": "markdown",
   "id": "444435e4",
   "metadata": {},
   "source": [
    "### Model 1: Logistic Regression\n",
    "\n",
    "A simple and interpretable linear model that serves as an excellent baseline."
   ]
  },
  {
   "cell_type": "code",
   "execution_count": 12,
   "id": "a7688525",
   "metadata": {},
   "outputs": [
    {
     "name": "stdout",
     "output_type": "stream",
     "text": [
      "Logistic Regression Results (with SMOTE):\n",
      "Accuracy: 0.8317025440313112\n",
      "\n",
      "Confusion Matrix:\n",
      " [[829 143]\n",
      " [ 29  21]]\n",
      "\n",
      "Classification Report:\n",
      "               precision    recall  f1-score   support\n",
      "\n",
      "           0       0.97      0.85      0.91       972\n",
      "           1       0.13      0.42      0.20        50\n",
      "\n",
      "    accuracy                           0.83      1022\n",
      "   macro avg       0.55      0.64      0.55      1022\n",
      "weighted avg       0.93      0.83      0.87      1022\n",
      "\n"
     ]
    }
   ],
   "source": [
    "# Initialize and train the Logistic Regression model\n",
    "log_reg_smote = LogisticRegression(random_state=42, max_iter=1000)\n",
    "log_reg_smote.fit(X_train_resampled, y_train_resampled)\n",
    "\n",
    "# Make predictions on the test set\n",
    "y_pred_lr = log_reg_smote.predict(X_test)\n",
    "\n",
    "# Evaluate the model\n",
    "print(\"Logistic Regression Results (with SMOTE):\")\n",
    "print(\"Accuracy:\", accuracy_score(y_test, y_pred_lr))\n",
    "print(\"\\nConfusion Matrix:\\n\", confusion_matrix(y_test, y_pred_lr))\n",
    "print(\"\\nClassification Report:\\n\", classification_report(y_test, y_pred_lr))"
   ]
  },
  {
   "cell_type": "markdown",
   "id": "93a6761f",
   "metadata": {},
   "source": [
    "### Model 2: K-Nearest Neighbors (KNN)\n",
    "\n",
    "A non-parametric model that classifies based on proximity. It's a good way to test a non-linear approach."
   ]
  },
  {
   "cell_type": "code",
   "execution_count": 13,
   "id": "1d3c280e",
   "metadata": {},
   "outputs": [
    {
     "name": "stdout",
     "output_type": "stream",
     "text": [
      "K-Nearest Neighbors (KNN) Results (with SMOTE):\n",
      "Accuracy: 0.8111545988258317\n",
      "\n",
      "Confusion Matrix:\n",
      " [[803 169]\n",
      " [ 24  26]]\n",
      "\n",
      "Classification Report:\n",
      "               precision    recall  f1-score   support\n",
      "\n",
      "           0       0.97      0.83      0.89       972\n",
      "           1       0.13      0.52      0.21        50\n",
      "\n",
      "    accuracy                           0.81      1022\n",
      "   macro avg       0.55      0.67      0.55      1022\n",
      "weighted avg       0.93      0.81      0.86      1022\n",
      "\n"
     ]
    }
   ],
   "source": [
    "# Initialize and train the K-Nearest Neighbors model\n",
    "knn_smote = KNeighborsClassifier(n_neighbors=5)\n",
    "knn_smote.fit(X_train_resampled, y_train_resampled)\n",
    "\n",
    "# Make predictions on the test set\n",
    "y_pred_knn = knn_smote.predict(X_test)\n",
    "\n",
    "# Evaluate the model\n",
    "print(\"K-Nearest Neighbors (KNN) Results (with SMOTE):\")\n",
    "print(\"Accuracy:\", accuracy_score(y_test, y_pred_knn))\n",
    "print(\"\\nConfusion Matrix:\\n\", confusion_matrix(y_test, y_pred_knn))\n",
    "print(\"\\nClassification Report:\\n\", classification_report(y_test, y_pred_knn))"
   ]
  },
  {
   "cell_type": "markdown",
   "id": "06cba03d",
   "metadata": {},
   "source": [
    "### Model 3: Random Forest Classifier\n",
    "\n",
    "A powerful ensemble model known for its high performance and robustness to outliers."
   ]
  },
  {
   "cell_type": "code",
   "execution_count": 14,
   "id": "666f9cf9",
   "metadata": {},
   "outputs": [
    {
     "name": "stdout",
     "output_type": "stream",
     "text": [
      "Random Forest Results (with SMOTE):\n",
      "Accuracy: 0.923679060665362\n",
      "\n",
      "Confusion Matrix:\n",
      " [[936  36]\n",
      " [ 42   8]]\n",
      "\n",
      "Classification Report:\n",
      "               precision    recall  f1-score   support\n",
      "\n",
      "           0       0.96      0.96      0.96       972\n",
      "           1       0.18      0.16      0.17        50\n",
      "\n",
      "    accuracy                           0.92      1022\n",
      "   macro avg       0.57      0.56      0.57      1022\n",
      "weighted avg       0.92      0.92      0.92      1022\n",
      "\n"
     ]
    }
   ],
   "source": [
    "# Initialize and train the Random Forest model\n",
    "rf_smote = RandomForestClassifier(n_estimators=100, random_state=42)\n",
    "rf_smote.fit(X_train_resampled, y_train_resampled)\n",
    "\n",
    "# Make predictions on the test set\n",
    "y_pred_rf = rf_smote.predict(X_test)\n",
    "\n",
    "# Evaluate the model\n",
    "print(\"Random Forest Results (with SMOTE):\")\n",
    "print(\"Accuracy:\", accuracy_score(y_test, y_pred_rf))\n",
    "print(\"\\nConfusion Matrix:\\n\", confusion_matrix(y_test, y_pred_rf))\n",
    "print(\"\\nClassification Report:\\n\", classification_report(y_test, y_pred_rf))"
   ]
  },
  {
   "cell_type": "markdown",
   "id": "d2c4a472",
   "metadata": {},
   "source": [
    "## 📊 Step 6: Model Comparison and Conclusion\n",
    "\n",
    "Let's summarize the results to compare the models. Given the class imbalance, we are particularly interested in the F1-score for the \"stroke\" class (1), as it provides a balance between precision and recall."
   ]
  },
  {
   "cell_type": "code",
   "execution_count": 15,
   "id": "6b82be57",
   "metadata": {},
   "outputs": [
    {
     "name": "stdout",
     "output_type": "stream",
     "text": [
      "Model Comparison based on F1-Score for Stroke cases:\n",
      "                 Model  F1-Score (Stroke=1)\n",
      "1  K-Nearest Neighbors             0.212245\n",
      "0  Logistic Regression             0.196262\n",
      "2        Random Forest             0.170213\n"
     ]
    },
    {
     "data": {
      "image/png": "[encoded data removed]",
      "text/plain": [
       "<Figure size 800x500 with 1 Axes>"
      ]
     },
     "metadata": {},
     "output_type": "display_data"
    }
   ],
   "source": [
    "# Create a dictionary to store model performance metrics\n",
    "model_performance = {\n",
    "    'Logistic Regression': classification_report(y_test, y_pred_lr, output_dict=True)['1']['f1-score'],\n",
    "    'K-Nearest Neighbors': classification_report(y_test, y_pred_knn, output_dict=True)['1']['f1-score'],\n",
    "    'Random Forest': classification_report(y_test, y_pred_rf, output_dict=True)['1']['f1-score']\n",
    "}\n",
    "\n",
    "# Convert to a pandas DataFrame for better visualization\n",
    "performance_df = pd.DataFrame(list(model_performance.items()), columns=['Model', 'F1-Score (Stroke=1)'])\n",
    "performance_df_sorted = performance_df.sort_values(by='F1-Score (Stroke=1)', ascending=False)\n",
    "\n",
    "# Display the sorted DataFrame\n",
    "print(\"Model Comparison based on F1-Score for Stroke cases:\")\n",
    "print(performance_df_sorted)\n",
    "\n",
    "# Create a bar plot to visualize the F1-scores\n",
    "plt.figure(figsize=(8, 5))\n",
    "sns.barplot(x='F1-Score (Stroke=1)', y='Model', data=performance_df_sorted)\n",
    "plt.title('Model F1-Score Comparison for Stroke Prediction', fontsize=14)\n",
    "plt.xlabel('F1-Score (Class 1)', fontsize=12)\n",
    "plt.ylabel('Model', fontsize=12)\n",
    "plt.xlim(0.0, 0.5) # Adjust x-axis for better visibility\n",
    "plt.show()"
   ]
  },
  {
   "cell_type": "markdown",
   "id": "226cda8f",
   "metadata": {},
   "source": [
    "## 💡 Final Conclusion\n",
    "\n",
    "+ This result is noteworthy because it highlights a key principle in machine learning: more complex models are not always better. Here are the key takeaways from our analysis:\n",
    "\n",
    "    - Best Performing Model: The K-Nearest Neighbors model, a relatively simple, non-parametric algorithm, provided the best balance of precision and recall for the crucial \"stroke\" class. This suggests that the local neighborhood of data points (i.e., the similarity to other patients) is a strong indicator of stroke risk, and the SMOTE technique successfully created denser, more identifiable \"stroke\" clusters in the feature space for KNN to leverage.\n",
    "\n",
    "    - The Overfitting Risk of Complex Models: Surprisingly, the Random Forest classifier, a powerful ensemble model, yielded the lowest F1-score. This is likely due to it overfitting to the synthetic data created by SMOTE. While balancing the training set is necessary, the synthetic samples can introduce noise. The Random Forest, with its deep trees, may have learned these noisy patterns too closely, which did not generalize well to the real-world, unseen test data. The simpler models, Logistic Regression and KNN, were more robust to this potential noise.\n",
    "\n",
    "    - The Importance of Imbalance Handling: Despite the performance differences, it's clear that addressing the severe class imbalance with SMOTE was a critical step. Without it, all models would have likely achieved high accuracy but near-zero recall for stroke cases, rendering them practically useless. The reasonable F1-scores obtained here are a direct result of this balancing strategy."
   ]
  },
  {
   "cell_type": "markdown",
   "id": "de4eda6d",
   "metadata": {},
   "source": [
    "## ✅ Future Improvements\n",
    "- Here are the logical next steps:\n",
    "\n",
    "    1. Hyperparameter Tuning for Random Forest: This is the most important next step. The default Random Forest is quite deep and can easily overfit. You can control this by tuning its parameters. Use GridSearchCV or RandomizedSearchCV to find the best combination of:\n",
    "\n",
    "        + n_estimators: The number of trees in the forest.\n",
    "\n",
    "        + max_depth: The maximum depth of each tree (a crucial parameter to prevent overfitting). A shallower depth forces the model to be simpler.\n",
    "\n",
    "        + min_samples_leaf: The minimum number of samples required to be at a leaf node.\n",
    "\n",
    "        + min_samples_split: The minimum number of samples required to split an internal node.\n",
    "\n",
    "    + A well-tuned Random Forest will very likely outperform both Logistic Regression and KNN.\n",
    "\n",
    "    2. Tune KNN: The performance of KNN is highly dependent on the value of k (n_neighbors). The default of 5 might be good, but k=7, 9, or 11 could be even better. You can also tune this with GridSearchCV.\n",
    "\n",
    "    3. Try Different Balancing Techniques:\n",
    "\n",
    "        + Class Weighting: Rerun your Random Forest and Logistic Regression models using the class_weight='balanced' parameter instead of SMOTE. This is a less intrusive way to handle imbalance and might work better for your Random Forest.\n",
    "\n",
    "        + Undersampling: Use a technique like RandomUnderSampler to reduce the number of majority class samples. This can sometimes be effective, but you risk losing important information.\n",
    "\n",
    "    4. Explore a Gradient Boosting Model (like XGBoost):\n",
    "    Gradient Boosting Machines are often the top performers on tabular data. They build trees sequentially, with each new tree correcting the errors of the previous ones. They have many parameters to control overfitting and are definitely worth trying."
   ]
  },
  {
   "cell_type": "code",
   "execution_count": null,
   "id": "011465e0",
   "metadata": {},
   "outputs": [],
   "source": []
  }
 ],
 "metadata": {
  "kernelspec": {
   "display_name": "Python 3",
   "language": "python",
   "name": "python3"
  },
  "language_info": {
   "codemirror_mode": {
    "name": "ipython",
    "version": 3
   },
   "file_extension": ".py",
   "mimetype": "text/x-python",
   "name": "python",
   "nbconvert_exporter": "python",
   "pygments_lexer": "ipython3",
   "version": "3.13.1"
  }
 },
 "nbformat": 4,
 "nbformat_minor": 5
}
